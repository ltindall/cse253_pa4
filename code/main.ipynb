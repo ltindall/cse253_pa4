{
 "cells": [
  {
   "cell_type": "code",
   "execution_count": 1,
   "metadata": {},
   "outputs": [],
   "source": [
    "# imports\n",
    "import utils\n",
    "import my_models\n",
    "\n",
    "# load the inputs as a list of ints\n",
    "inputs = utils.load_music('sample-music.txt') # full input.txt is 501470 in length\n",
    "\n",
    "# get a list of start indices based on the inputs\n",
    "pm_arr = utils.permute_list(len(inputs), 10)\n"
   ]
  },
  {
   "cell_type": "code",
   "execution_count": 2,
   "metadata": {},
   "outputs": [],
   "source": [
    "# create a batch based on the permute array (do this with a while loop in the epoch)\n",
    "batch, ids = utils.create_batch(inputs, pm_arr, 3, 10)\n",
    "print(batch)\n",
    "print(ids)"
   ]
  },
  {
   "cell_type": "code",
   "execution_count": null,
   "metadata": {},
   "outputs": [],
   "source": []
  }
 ],
 "metadata": {
  "kernelspec": {
   "display_name": "Python 3",
   "language": "python",
   "name": "python3"
  },
  "language_info": {
   "codemirror_mode": {
    "name": "ipython",
    "version": 3
   },
   "file_extension": ".py",
   "mimetype": "text/x-python",
   "name": "python",
   "nbconvert_exporter": "python",
   "pygments_lexer": "ipython3",
   "version": "3.5.4"
  }
 },
 "nbformat": 4,
 "nbformat_minor": 2
}
