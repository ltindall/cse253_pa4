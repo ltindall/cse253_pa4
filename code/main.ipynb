{
 "cells": [
  {
   "cell_type": "code",
   "execution_count": 1,
   "metadata": {},
   "outputs": [
    {
     "name": "stdout",
     "output_type": "stream",
     "text": [
      "GPU enabled =  True\n"
     ]
    }
   ],
   "source": [
    "# imports\n",
    "import torch, torchvision\n",
    "import numpy as np\n",
    "import utils\n",
    "import my_models\n",
    "import hyperparameters as h # this prints GPU enabled = True\n",
    "\n",
    "\n",
    "# load the inputs as a list of ints\n",
    "inputs, char2int_cypher = utils.load_music('input.txt') \n",
    "# full input.txt is 501470 in length\n",
    "dict_size = len(char2int_cypher) # conversion is the dict convert char to int\n",
    "\n",
    "\n",
    "# define test and validation set\n",
    "split = int(len(inputs) * 0.1) # change 0.1 to how big we want validation set to be\n",
    "validation_set = inputs[:split]\n",
    "training_set = inputs[split:]\n",
    "\n",
    "\n",
    "# create model\n",
    "lstm = my_models.lstm_char_rnn(dict_size, h.hidden_size, h.num_hidden_layers)\n",
    "init_hidden = lstm.initialize_hidden()\n",
    "if h.GPU:\n",
    "    init_hidden = init_hidden.cuda()\n",
    "    lstm.cuda()\n",
    "    \n",
    "optimizer_lstm = torch.optim.Adam(lstm.parameters(), lr=0.01)"
   ]
  },
  {
   "cell_type": "code",
   "execution_count": null,
   "metadata": {},
   "outputs": [
    {
     "name": "stdout",
     "output_type": "stream",
     "text": [
      "training epoch  0\n",
      "seq  0\n",
      "seq  10000\n",
      "seq  20000\n",
      "seq  30000\n",
      "seq  40000\n",
      "seq  50000\n",
      "seq  60000\n",
      "seq  70000\n",
      "seq  80000\n"
     ]
    }
   ],
   "source": [
    "my_models.train(lstm, optimizer_lstm, h.epochs, inputs, h.sequence_length, init_hidden)\n"
   ]
  },
  {
   "cell_type": "code",
   "execution_count": null,
   "metadata": {},
   "outputs": [],
   "source": []
  }
 ],
 "metadata": {
  "kernelspec": {
   "display_name": "Python 3",
   "language": "python",
   "name": "python3"
  },
  "language_info": {
   "codemirror_mode": {
    "name": "ipython",
    "version": 3
   },
   "file_extension": ".py",
   "mimetype": "text/x-python",
   "name": "python",
   "nbconvert_exporter": "python",
   "pygments_lexer": "ipython3",
   "version": "3.5.4"
  }
 },
 "nbformat": 4,
 "nbformat_minor": 2
}
