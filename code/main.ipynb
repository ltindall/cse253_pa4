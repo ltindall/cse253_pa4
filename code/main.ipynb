{
 "cells": [
  {
   "cell_type": "code",
   "execution_count": 1,
   "metadata": {
    "scrolled": true
   },
   "outputs": [
    {
     "name": "stdout",
     "output_type": "stream",
     "text": [
      "GPU enabled =  True\n",
      "$\n",
      "X:1\n",
      "T: La Montfarine\n",
      "Z:Transcrit et/ou corrig? par Michel BELLON - 2005-07-24\n",
      "Z:Pour toute observation mailto:galouvielle@free.fr\n",
      "M: 4/4\n",
      "L: 1/8\n",
      "Q:1/4=186\n",
      "FGF B=AG G=AG F2F FGF {F}F2E EFE|\n",
      "{E}E2D FGF B=AG G=AG {F}F2F FED C2G D2E|F3 {F}F/2 ED E3/2D/2|\n",
      "EC FE E2 DC|DC C2 GD2E|F3F/2F/2 DE FD|EC B,C D2 B,G|\n",
      "cB =A2 FG2E|F3F GF B=A|GG =AG F2 FF|GF F/2F3/2 EE FE|\n",
      "E/2E3/2 DF GF B=A|GG =AG F/2F3/2 FF|ED C2 GD2E|F3F/2F/2 ED E3/2D/2|\n",
      "EC FE E2 DC|DC C2 GD2E|F3F/2F/2 DE FD|EC B,C D2 B,G|\n",
      "cB =A2 FF G=A|B3\n",
      "G2_A G/2G3/2-|GF/2F/2 ED F2 EB,|CD EF GB AG|\n",
      "A3A GA F2|F/2F/2F EF D3/2B,/2 B,B,|CD EF GA GF|G3B/2B/2 AB G2|\n",
      "GG/2G/2 FG E2 EB/2B/2|AG BA GG AB|c3c/2c3/2d f2|ed eG c2 BB|\n",
      "AB dc BG AD|E3F GF BA|GG AG F2 FF|GF F/2F3/2 EE FE|\n",
      "E/2E3/2 DF GF BA|GG AG F/2F3/2 FF|ED C2 GD2E|F2- F/2\n",
      ";\n",
      "$\n",
      "X: 2\n",
      "T:Stella splendens\n",
      "C\n"
     ]
    }
   ],
   "source": [
    "# imports\n",
    "import torch, torchvision\n",
    "import numpy as np\n",
    "import utils\n",
    "import my_models\n",
    "import hyperparameters as h # this prints GPU enabled = True\n",
    "\n",
    "\n",
    "# load the inputs as a list of ints\n",
    "inputs, char2int_cypher = utils.load_music('input.txt', use_custom=True) \n",
    "# full input.txt is 501470 in length\n",
    "dict_size = len(char2int_cypher) # conversion is the dict convert char to int\n",
    "\n",
    "# define test and validation set\n",
    "split = int(len(inputs) * 0.1) # change 0.1 to how big we want validation set to be\n",
    "validation_set = inputs[:split]\n",
    "training_set = inputs[split:]\n",
    "\n",
    "\n",
    "# create model\n",
    "lstm = my_models.lstm_char_rnn(dict_size, h.hidden_size, h.num_hidden_layers, h.batch_size)\n",
    "init_hidden = lstm.initialize_hidden()\n",
    "if h.GPU:\n",
    "    init_hidden = init_hidden.cuda()\n",
    "    lstm.cuda()\n",
    "    \n",
    "optimizer_lstm = torch.optim.Adam(lstm.parameters(), lr=0.01)"
   ]
  },
  {
   "cell_type": "code",
   "execution_count": 10,
   "metadata": {},
   "outputs": [
    {
     "name": "stdout",
     "output_type": "stream",
     "text": [
      "10\n"
     ]
    }
   ],
   "source": []
  },
  {
   "cell_type": "code",
   "execution_count": 2,
   "metadata": {},
   "outputs": [
    {
     "name": "stdout",
     "output_type": "stream",
     "text": [
      "training epoch  0\n",
      "seq  0\n",
      "finished with this epoch!\n",
      "training epoch  1\n",
      "seq  0\n",
      "finished with this epoch!\n",
      "training epoch  2\n",
      "seq  0\n",
      "finished with this epoch!\n",
      "training epoch  3\n",
      "seq  0\n",
      "finished with this epoch!\n",
      "training epoch  4\n",
      "seq  0\n",
      "finished with this epoch!\n",
      "training epoch  5\n",
      "seq  0\n",
      "finished with this epoch!\n",
      "training epoch  6\n",
      "seq  0\n",
      "finished with this epoch!\n",
      "training epoch  7\n",
      "seq  0\n",
      "finished with this epoch!\n",
      "training epoch  8\n",
      "seq  0\n",
      "finished with this epoch!\n",
      "training epoch  9\n",
      "seq  0\n",
      "finished with this epoch!\n"
     ]
    },
    {
     "data": {
      "text/plain": [
       "1"
      ]
     },
     "execution_count": 2,
     "metadata": {},
     "output_type": "execute_result"
    }
   ],
   "source": [
    "my_models.train(lstm, optimizer_lstm, h.epochs, inputs, h.sequence_length, init_hidden)\n"
   ]
  },
  {
   "cell_type": "code",
   "execution_count": null,
   "metadata": {},
   "outputs": [],
   "source": []
  }
 ],
 "metadata": {
  "kernelspec": {
   "display_name": "Python 3",
   "language": "python",
   "name": "python3"
  },
  "language_info": {
   "codemirror_mode": {
    "name": "ipython",
    "version": 3
   },
   "file_extension": ".py",
   "mimetype": "text/x-python",
   "name": "python",
   "nbconvert_exporter": "python",
   "pygments_lexer": "ipython3",
   "version": "3.5.4"
  }
 },
 "nbformat": 4,
 "nbformat_minor": 2
}
