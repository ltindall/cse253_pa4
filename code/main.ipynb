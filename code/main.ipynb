{
 "cells": [
  {
   "cell_type": "code",
   "execution_count": 3,
   "metadata": {
    "scrolled": false
   },
   "outputs": [
    {
     "name": "stdout",
     "output_type": "stream",
     "text": [
      "Using custom starts and ends...\n",
      "There are 95 unique characters in this dataset\n",
      "\n"
     ]
    }
   ],
   "source": [
    "# imports\n",
    "import torch\n",
    "import utils\n",
    "import my_models\n",
    "import hyperparameters as h # this prints GPU enabled = True\n",
    "\n",
    "\n",
    "files = ['sample-music.txt', 'input.txt']\n",
    "# load the inputs as a list of ints\n",
    "inputs, char2int_cypher, int2char_cypher = utils.load_music(files[1], use_custom=True)\n",
    "# full input.txt is 501470 in length\n",
    "dict_size = len(char2int_cypher) # conversion is the dict convert char to int\n",
    "\n",
    "h.char2int_cypher = char2int_cypher\n",
    "h.int2char_cypher = int2char_cypher\n",
    "\n",
    "\n",
    "# define test and validation set\n",
    "split = int(len(inputs) * 0.1) # change 0.1 to how big we want validation set to be\n",
    "validation_set = inputs[:split]\n",
    "training_set = inputs[split:]\n",
    "\n",
    "\n",
    "# create model\n",
    "lstm = my_models.lstm_char_rnn(dict_size, h.hidden_size, h.num_hidden_layers, batch_size=h.batch_size)\n",
    "init_hidden = lstm.initialize_hidden()\n",
    "if h.GPU:\n",
    "    init_hidden = init_hidden.cuda()\n",
    "    lstm.cuda()\n",
    "\n",
    "optimizer_lstm = torch.optim.Adam(lstm.parameters(), lr=0.01)"
   ]
  },
  {
   "cell_type": "code",
   "execution_count": 6,
   "metadata": {},
   "outputs": [
    {
     "name": "stdout",
     "output_type": "stream",
     "text": [
      "final output =  $\n",
      "X:51\n",
      "T:Jich\n",
      "W: I no K\\'an hn-hornp-pea-5 dac Hse (16738))\n",
      "O:France\n",
      "D:Jack Drion \n",
      "M:C|\n",
      "K:Em\n",
      "~A3 efg|fed efe|dcB cBc|Ace fed|efg afg|\n",
      "afdc d^cd|efe edB | cde add|gBe afe g2g|ag~f2 ABAG||:d^ca aGAG|\n",
      "D2GB A2de:|2 ~e3d ede^f|1 gedc BAG:|\n",
      "|:ec ef/e/|fB AF/A/|dA Ac|ef gf|ef ed|c2 c/B/A|FGBc|1 d4 :| [4E42C | B2>G2 | B4B2c/4B>c/2d/2 | eB z/2B/2B/2/2/2-5\n",
      "M:C|\n",
      "K:Gmixlimhos jig\n",
      "H:Adowan\n",
      "Z:id:hn-hornpipe-42\n",
      "M:C\n",
      "R:Dice tonnapate\n",
      "R:march\n",
      "O:France\n",
      "A:Provence\n",
      "C:\n",
      "A2 ABd|c2dB AGAF|G2AB c2ed|BAGE G2gf||\n",
      "g2 gecA FG\n",
      "\n",
      "final output =  $\n",
      "X:82\n",
      "T:Sellele@gies to Boithau\n",
      "G:Ldarchou\n",
      "C:vaoiling to | fd | cB AF FB | BB AB | A3) AG Ad | fd e2 |\n",
      "_B2 BG GB | B4 ::\n",
      "G>c dc | B2 B2 | B4- | A4 |\n",
      "c>c ef | g4 | f>e d2cc | B>A G3) | (3B>B BA | Bc d/d/c/B/ | c/B/ AB |1 AB cA :|\n",
      "P:variations:\n",
      "|:ag ag/e/|de/d/ g3/a/2g/2|a3/2g/2e2d2c/2d/2|e/2f/2 gf ^g|\n",
      "a>g | +breath+b2+breath+F2)D | E2G GFG | A2F AFE |\n",
      "EF/F/ GEF |EF/E/ EG|FA B/c/B/A/|Bc df|ea e/c/B/A/|df A2:|\n",
      "P:Variations\n",
      "A2 BA|eA ce|df fe|1 dB B>G|AA B/c/B/A/G/G/ A>f :: 2 G/F/G/B/ ce|dB ce|dB e/f\n"
     ]
    },
    {
     "data": {
      "text/plain": [
       "1"
      ]
     },
     "execution_count": 6,
     "metadata": {},
     "output_type": "execute_result"
    }
   ],
   "source": [
    "\n",
    "\n",
    "my_models.generate(h.save_file, lstm, h.temperature, h.prediction_length)\n",
    "print()\n",
    "my_models.generate(h.save_file_progress, lstm, h.temperature, h.prediction_length)"
   ]
  },
  {
   "cell_type": "code",
   "execution_count": null,
   "metadata": {},
   "outputs": [],
   "source": []
  }
 ],
 "metadata": {
  "kernelspec": {
   "display_name": "Python 3",
   "language": "python",
   "name": "python3"
  },
  "language_info": {
   "codemirror_mode": {
    "name": "ipython",
    "version": 3
   },
   "file_extension": ".py",
   "mimetype": "text/x-python",
   "name": "python",
   "nbconvert_exporter": "python",
   "pygments_lexer": "ipython3",
   "version": "3.5.4"
  }
 },
 "nbformat": 4,
 "nbformat_minor": 2
}
